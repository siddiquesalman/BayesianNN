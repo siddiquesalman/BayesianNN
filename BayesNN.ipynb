{
 "cells": [
  {
   "cell_type": "markdown",
   "metadata": {},
   "source": [
    "## Bayesian Neural Networks\n",
    "This notebook is a PyTorch implementation of a one-layer Bayesian Neural Network using Gaussian Prior on weights with known mean and variance and an unknown Gaussian variational posterior. It is based on [this](https://davidstutz.de/a-short-introduction-to-bayesian-neural-networks/) excellent short tutorial on Bayesian Neural Networks. This implementation deals with two scenarios: \n",
    "\n",
    "1. Closed-form KL Divergence exists\n",
    "2. Closed-form KL Divergence doesn't exist -- Bayes by Backprop"
   ]
  },
  {
   "cell_type": "code",
   "execution_count": 1,
   "metadata": {},
   "outputs": [],
   "source": [
    "from __future__ import print_function\n",
    "import torch\n",
    "import torch.nn.functional as F\n",
    "import numpy as np\n",
    "import scipy\n",
    "import skimage\n",
    "import matplotlib.pyplot as plt\n",
    "import scipy.io as sio\n",
    "import skimage.io as skio\n",
    "import torch.nn as nn\n",
    "import torch.optim as optim\n",
    "from torchvision import datasets, transforms\n",
    "from torch.autograd import Variable\n",
    "import math"
   ]
  },
  {
   "cell_type": "markdown",
   "metadata": {},
   "source": [
    "Set the configuration variables"
   ]
  },
  {
   "cell_type": "code",
   "execution_count": 2,
   "metadata": {},
   "outputs": [],
   "source": [
    "batchsize = 4\n",
    "prior_mu = torch.tensor([0]).float()\n",
    "prior_sigma = torch.tensor([1]).float()\n",
    "in_features = int(28*28)\n",
    "out_features = 10\n",
    "numEpochs = 5\n",
    "numWorkers = 2\n",
    "closed_form  = True #Set false to use Bayes by Backprop"
   ]
  },
  {
   "cell_type": "markdown",
   "metadata": {},
   "source": [
    "Set dataloader"
   ]
  },
  {
   "cell_type": "code",
   "execution_count": 3,
   "metadata": {},
   "outputs": [],
   "source": [
    "\n",
    "train_loader = torch.utils.data.DataLoader(\n",
    "        datasets.MNIST('./data', train=True, download=True,\n",
    "                       transform=transforms.Compose([\n",
    "                           transforms.ToTensor(),transforms.Normalize((0.1307,),(0.3081,))\n",
    "                       ])),\n",
    "        batch_size=batchsize, shuffle=True, num_workers=numWorkers)\n",
    "\n",
    "test_loader = torch.utils.data.DataLoader(\n",
    "    datasets.MNIST('./data', train=False, transform=transforms.Compose([\n",
    "        transforms.ToTensor(), transforms.Normalize((0.1307,),(0.3081,))\n",
    "    ])),\n",
    "    batch_size=batchsize, shuffle=False, num_workers=numWorkers)\n",
    "\n",
    "N = int(len(train_loader)*batchsize)"
   ]
  },
  {
   "cell_type": "markdown",
   "metadata": {},
   "source": [
    "## Reparametrization Trick\n",
    "Reparametrization trick for Variational Inference similar to VAE [[Link]](https://arxiv.org/abs/1312.6114). Helps with backpropagation through a sampling process."
   ]
  },
  {
   "cell_type": "code",
   "execution_count": 4,
   "metadata": {},
   "outputs": [],
   "source": [
    "def reparametrize(mu, sigma, sampling=True):\n",
    "    var = sigma**2\n",
    "    if sampling:\n",
    "        std = torch.sqrt(var)\n",
    "        eps = torch.FloatTensor(std.size()).normal_()\n",
    "        eps = Variable(eps)\n",
    "        return mu + eps * std\n",
    "    else:\n",
    "        return mu #if not sampling, then return the variational posterior mean"
   ]
  },
  {
   "cell_type": "code",
   "execution_count": 5,
   "metadata": {},
   "outputs": [],
   "source": [
    "def computelogPrior(wt):\n",
    "    \"\"\"\n",
    "    Computes the prior probability for the weights. \n",
    "    Needs to be changed based on the prior form.\n",
    "    \"\"\"\n",
    "    norm_factor = torch.log(1/(torch.sqrt(torch.tensor([2*3.1416]))*prior_sigma))\n",
    "    exp_factor = torch.log(torch.exp(-(1/2)*(((wt-prior_mu)/prior_sigma)**2)))\n",
    "    logprob = norm_factor + exp_factor\n",
    "    return logprob"
   ]
  },
  {
   "cell_type": "code",
   "execution_count": 6,
   "metadata": {},
   "outputs": [],
   "source": [
    "def computelogVarPost(wt,post_mu,post_sigma):\n",
    "    \"\"\"\n",
    "    Computes the posterior probability for the weights. \n",
    "    Needs to be changed based on the prior form.\n",
    "    \"\"\"\n",
    "    post_var = post_sigma**2\n",
    "    norm_factor = torch.log(1/torch.sqrt(2*3.1416*post_var))\n",
    "    exp_factor = torch.log(torch.exp(-(1/2)*(((wt-post_mu)/torch.sqrt(post_var))**2)))\n",
    "    logpost = norm_factor + exp_factor\n",
    "    return logpost"
   ]
  },
  {
   "cell_type": "markdown",
   "metadata": {},
   "source": [
    "Define the network"
   ]
  },
  {
   "cell_type": "code",
   "execution_count": 7,
   "metadata": {},
   "outputs": [],
   "source": [
    "#One layer Bayesian Neural Network\n",
    "class LinearGaussian(nn.Module):\n",
    "    def __init__(self, in_features, out_features):\n",
    "        super(LinearGaussian, self).__init__()\n",
    "        self.in_features = in_features\n",
    "        self.out_features = out_features\n",
    "        self.post_mu = nn.Parameter(torch.zeros((out_features,in_features))+0.8)\n",
    "        self.post_sigma = nn.Parameter(torch.zeros((out_features,in_features))+1.1)\n",
    "        self.sampling = True\n",
    "    def forward(self,x):\n",
    "        x = x.view(-1,self.in_features)\n",
    "        self.wts = reparametrize(self.post_mu,self.post_sigma,self.sampling)\n",
    "        y = F.linear(x,self.wts,bias=None)\n",
    "        return y  \n"
   ]
  },
  {
   "cell_type": "markdown",
   "metadata": {},
   "source": [
    "## KL-Divergence\n",
    "For flag *closed_form=True*, we need to calculate the KL-Divergence between the gaussian prior and gaussian variational posterior. Refer to this paper for the derivation [[Link]](https://papers.nips.cc/paper/4329-practical-variational-inference-for-neural-networks).<br><br>\n",
    "$KL(q_{\\phi}(\\textbf{w})|p(\\textbf{w})) = \\sum_{i=1}^{W}{ln(\\frac{\\sigma_{prior}}{\\sigma_i}}) + \\frac{1}{\\sigma_{prior}^{2}}[(\\mu_i - \\mu_{prior})^2 + \\sigma_i^2 - \\sigma_{prior}^2]$ <br><br>\n",
    "When a closed-form doesn't exist, we approximate it by the following,<br><br>\n",
    "$KL(q_{\\phi}(\\textbf{w})|p(\\textbf{w})) = \\sum_{i=1}^{W}{log(q_{\\phi}(w_i)) - log(p(w_i))}$ <br><br>\n",
    "For derivation for this approximation, please refer to the Bayes by Backprop paper [[Link]](http://proceedings.mlr.press/v37/blundell15.pdf)"
   ]
  },
  {
   "cell_type": "code",
   "execution_count": 8,
   "metadata": {},
   "outputs": [],
   "source": [
    "def KL_Divergence(mu,sigma,wts=None,closed_form=True): \n",
    "    var = sigma**2\n",
    "    if closed_form:\n",
    "        term_1 = torch.log(prior_sigma/torch.sqrt(var))\n",
    "        term_2a = 1/(2*(prior_sigma**2))\n",
    "        term_2b = (mu-prior_mu)**2\n",
    "        term_2c = var-(prior_sigma**2)\n",
    "        term_2 = term_2a*(term_2b + term_2c)\n",
    "        term_KL = term_1 + term_2\n",
    "    else:\n",
    "        term_1 = computelogVarPost(wts,mu,var)\n",
    "        term_2 = computelogPrior(wts)\n",
    "        term_KL = term_1 - term_2    \n",
    "    return torch.sum(term_KL)"
   ]
  },
  {
   "cell_type": "markdown",
   "metadata": {},
   "source": [
    "## Total loss used for training <br>\n",
    "$L(\\phi) = -\\mathbb{E}q_{\\phi}[ln(P(\\mathcal{D}|\\textbf{w}))] + KL(q_{\\phi}(\\textbf{w})|p(\\textbf{w}))$<br><br>\n",
    "$-\\mathbb{E}q_{\\phi}[ln(P(\\mathcal{D}|\\textbf{w}))]$ --> is the data loss -- cross-entropy loss for classification and scaled MSE for regression. The loss is calculated for a sample of $\\textbf{w}$ from the $q_{\\phi}(\\textbf{w})$ obtained using the reparametrization trick. Although one weight sample from $q_{\\phi}(\\textbf{w})$ is used here, more can also be used. Here $\\phi$ is the set of parameters for the variational posterior which in this case is the mean and standard deviation for each weight. Check this tutorial out for more detail on this [[Link]](https://davidstutz.de/a-short-introduction-to-bayesian-neural-networks/)."
   ]
  },
  {
   "cell_type": "code",
   "execution_count": 9,
   "metadata": {},
   "outputs": [],
   "source": [
    "lg = LinearGaussian(in_features,out_features)"
   ]
  },
  {
   "cell_type": "code",
   "execution_count": 10,
   "metadata": {},
   "outputs": [],
   "source": [
    "optimizer = optim.Adam(lg.parameters())\n",
    "data_error = nn.CrossEntropyLoss()"
   ]
  },
  {
   "cell_type": "code",
   "execution_count": 11,
   "metadata": {},
   "outputs": [],
   "source": [
    "train_kl = []\n",
    "train_data = []\n",
    "train_tot = []"
   ]
  },
  {
   "cell_type": "code",
   "execution_count": 12,
   "metadata": {},
   "outputs": [],
   "source": [
    "def test(model, test_loader, sampling):\n",
    "    model.eval()\n",
    "    model.sampling = sampling \n",
    "    test_loss = 0\n",
    "    correct = 0\n",
    "    with torch.no_grad():\n",
    "        for data, target in test_loader:\n",
    "            output = model(data)\n",
    "            test_loss += data_error(output, target).item()  # sum up batch loss\n",
    "            pred = F.log_softmax(output).argmax(dim=1, keepdim=True)  # get the index of the max log-probability\n",
    "            correct += pred.eq(target.view_as(pred)).sum().item()\n",
    "\n",
    "    test_loss /= len(test_loader)\n",
    "\n",
    "    print('\\nTest set: Average loss: {:.2f}, Accuracy: {}/{} ({:.2f}%)\\n'.format(\n",
    "        test_loss, correct, len(test_loader.dataset),\n",
    "        100. * correct / len(test_loader.dataset)))\n"
   ]
  },
  {
   "cell_type": "code",
   "execution_count": 13,
   "metadata": {
    "scrolled": true
   },
   "outputs": [
    {
     "name": "stdout",
     "output_type": "stream",
     "text": [
      "Epoch: 0, Iterations: 5000\n",
      "Total Loss: 13.71251106262207\n",
      "Epoch: 0, Iterations: 10000\n",
      "Total Loss: 20.026958465576172\n",
      "Epoch: 0, Iterations: 15000\n",
      "Total Loss: 10.151152610778809\n",
      "Epoch: 1, Iterations: 5000\n",
      "Total Loss: 3.041043996810913\n",
      "Epoch: 1, Iterations: 10000\n",
      "Total Loss: 19.951372146606445\n",
      "Epoch: 1, Iterations: 15000\n",
      "Total Loss: 20.705520629882812\n",
      "Epoch: 2, Iterations: 5000\n",
      "Total Loss: 2.690304756164551\n",
      "Epoch: 2, Iterations: 10000\n",
      "Total Loss: 27.77386474609375\n",
      "Epoch: 2, Iterations: 15000\n",
      "Total Loss: 2.5387444496154785\n",
      "Epoch: 3, Iterations: 5000\n",
      "Total Loss: 2.4882400035858154\n",
      "Epoch: 3, Iterations: 10000\n",
      "Total Loss: 10.43812370300293\n",
      "Epoch: 3, Iterations: 15000\n",
      "Total Loss: 2.406203269958496\n",
      "Epoch: 4, Iterations: 5000\n",
      "Total Loss: 2.4635283946990967\n",
      "Epoch: 4, Iterations: 10000\n",
      "Total Loss: 2.82051944732666\n",
      "Epoch: 4, Iterations: 15000\n",
      "Total Loss: 2.3300912380218506\n"
     ]
    }
   ],
   "source": [
    "lg.train()\n",
    "for epochs in range(numEpochs):\n",
    "    iter = 0\n",
    "    for X_train, Y_train in train_loader:\n",
    "        iter += 1\n",
    "        out = lg(X_train)\n",
    "        optimizer.zero_grad()\n",
    "        data_loss = data_error(out,Y_train)\n",
    "        KL = (1/(1e-2*N))*KL_Divergence(lg.post_mu,lg.post_sigma,lg.wts,closed_form)\n",
    "        if math.isnan(KL):\n",
    "            import pdb;pdb.set_trace()\n",
    "        train_kl.append(KL)\n",
    "        loss = data_loss + (KL)    \n",
    "        loss.backward()\n",
    "        optimizer.step()\n",
    "        train_data.append(data_loss.item())\n",
    "        train_tot.append(loss.item())\n",
    "        if iter%5000 == 0:\n",
    "            print('Epoch: '+str(epochs)+', Iterations: '+str(iter))\n",
    "            print('Total Loss: '+str(loss.item()))"
   ]
  },
  {
   "cell_type": "markdown",
   "metadata": {},
   "source": [
    "## Inference \n",
    "For testing, variational posterior mean is used. Other weight samples from the estimated variational posterior can also be used by setting the flag *sampling = True*."
   ]
  },
  {
   "cell_type": "code",
   "execution_count": 14,
   "metadata": {},
   "outputs": [
    {
     "name": "stderr",
     "output_type": "stream",
     "text": [
      "C:\\Users\\salma\\anaconda3\\lib\\site-packages\\ipykernel_launcher.py:10: UserWarning: Implicit dimension choice for log_softmax has been deprecated. Change the call to include dim=X as an argument.\n",
      "  # Remove the CWD from sys.path while we load stuff.\n"
     ]
    },
    {
     "name": "stdout",
     "output_type": "stream",
     "text": [
      "\n",
      "Test set: Average loss: 1.65, Accuracy: 9164/10000 (91.64%)\n",
      "\n"
     ]
    }
   ],
   "source": [
    "sampling = False #Set false for using the posterior mean and true for randomly sampling the weights from the posterior\n",
    "test(lg,test_loader,sampling)"
   ]
  },
  {
   "cell_type": "markdown",
   "metadata": {},
   "source": [
    "## Plots"
   ]
  },
  {
   "cell_type": "code",
   "execution_count": 15,
   "metadata": {},
   "outputs": [
    {
     "data": {
      "text/plain": [
       "Text(0.5, 0, 'Iterations')"
      ]
     },
     "execution_count": 15,
     "metadata": {},
     "output_type": "execute_result"
    },
    {
     "data": {
      "text/plain": [
       "<Figure size 432x288 with 0 Axes>"
      ]
     },
     "metadata": {},
     "output_type": "display_data"
    },
    {
     "data": {
      "image/png": "[encoded data removed]",
      "text/plain": [
       "<Figure size 1800x360 with 3 Axes>"
      ]
     },
     "metadata": {
      "needs_background": "light"
     },
     "output_type": "display_data"
    }
   ],
   "source": [
    "plt.clf()\n",
    "plt.figure(figsize=(25,5))\n",
    "plt.subplot(131)\n",
    "plt.plot(train_kl)\n",
    "plt.grid('on')\n",
    "plt.title('KL-Divergence')\n",
    "plt.xlabel('Iterations')\n",
    "plt.subplot(132)\n",
    "plt.plot(train_data)\n",
    "plt.grid('on')\n",
    "plt.title('Data Loss')\n",
    "plt.xlabel('Iterations')\n",
    "plt.subplot(133)\n",
    "plt.plot(train_tot)\n",
    "plt.grid('on')\n",
    "plt.title('Total Loss')\n",
    "plt.xlabel('Iterations')"
   ]
  }
 ],
 "metadata": {
  "kernelspec": {
   "display_name": "Python 3",
   "language": "python",
   "name": "python3"
  },
  "language_info": {
   "codemirror_mode": {
    "name": "ipython",
    "version": 3
   },
   "file_extension": ".py",
   "mimetype": "text/x-python",
   "name": "python",
   "nbconvert_exporter": "python",
   "pygments_lexer": "ipython3",
   "version": "3.7.6"
  }
 },
 "nbformat": 4,
 "nbformat_minor": 4
}
